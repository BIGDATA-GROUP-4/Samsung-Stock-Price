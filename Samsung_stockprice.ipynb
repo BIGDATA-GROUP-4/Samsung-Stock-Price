{
 "cells": [
  {
   "cell_type": "code",
   "execution_count": 10,
   "id": "c86ae5d1",
   "metadata": {},
   "outputs": [],
   "source": [
    "from pyspark.sql import SparkSession\n",
    "from pyspark.sql.functions import col, to_date, when\n",
    "spark = SparkSession.builder.appName(\"SamsungStockClean\").getOrCreate()\n",
    "import pandas as pd\n",
    "from pyampute.exploration.mcar_statistical_tests import MCARTest"
   ]
  },
  {
   "cell_type": "code",
   "execution_count": 11,
   "id": "2878359d",
   "metadata": {},
   "outputs": [
    {
     "name": "stdout",
     "output_type": "stream",
     "text": [
      "root\n",
      " |-- Date: date (nullable = true)\n",
      " |-- Open: double (nullable = true)\n",
      " |-- High: double (nullable = true)\n",
      " |-- Low: double (nullable = true)\n",
      " |-- Close: double (nullable = true)\n",
      " |-- Adj Close: double (nullable = true)\n",
      " |-- Volume: integer (nullable = true)\n",
      "\n",
      "+-------+------------------+------------------+-----------------+------------------+------------------+--------------------+\n",
      "|summary|              Open|              High|              Low|             Close|         Adj Close|              Volume|\n",
      "+-------+------------------+------------------+-----------------+------------------+------------------+--------------------+\n",
      "|  count|              1505|              1505|             1505|              1505|              1505|                1505|\n",
      "|   mean|64154.617940199336| 64734.01993355482|63548.70431893688| 64108.90365448505| 59933.01363164452|1.6625267806644518E7|\n",
      "| stddev|12269.830762688787|12321.091698838984|12176.81337181051|12227.346772831712|12894.680103072302|   8731551.588529108|\n",
      "|    min|           37450.0|           37600.0|          36850.0|           37450.0|    31952.66796875|                   0|\n",
      "|    max|           90300.0|           96800.0|          89500.0|           91000.0|        86718.8125|            90306177|\n",
      "+-------+------------------+------------------+-----------------+------------------+------------------+--------------------+\n",
      "\n"
     ]
    }
   ],
   "source": [
    "#Load data\n",
    "ss = spark.read.csv(\"./Samsung Electronics Stock Historical Price.csv\", header=True, inferSchema=True)\n",
    "ss.printSchema()\n",
    "ss.describe().show()"
   ]
  },
  {
   "cell_type": "code",
   "execution_count": 12,
   "id": "c5c61bd0",
   "metadata": {},
   "outputs": [
    {
     "name": "stdout",
     "output_type": "stream",
     "text": [
      "root\n",
      " |-- Date: string (nullable = true)\n",
      " |-- Price: string (nullable = true)\n",
      " |-- Open: string (nullable = true)\n",
      " |-- High: string (nullable = true)\n",
      " |-- Low: string (nullable = true)\n",
      " |-- Vol.: string (nullable = true)\n",
      " |-- Change %: string (nullable = true)\n",
      "\n"
     ]
    }
   ],
   "source": [
    "#Load KOSPI data\n",
    "kospi = spark.read.csv(\"./KOSPI Data.csv\", header=True, inferSchema=True)\n",
    "kospi.printSchema()"
   ]
  },
  {
   "cell_type": "code",
   "execution_count": 4,
   "id": "c5fee409",
   "metadata": {},
   "outputs": [
    {
     "data": {
      "text/plain": [
       "[('Date', 'date'),\n",
       " ('Open', 'double'),\n",
       " ('High', 'double'),\n",
       " ('Low', 'double'),\n",
       " ('Close', 'double'),\n",
       " ('Adj Close', 'double'),\n",
       " ('Volume', 'int')]"
      ]
     },
     "execution_count": 4,
     "metadata": {},
     "output_type": "execute_result"
    }
   ],
   "source": [
    "ss.dtypes"
   ]
  },
  {
   "cell_type": "code",
   "execution_count": 5,
   "id": "256358fa",
   "metadata": {},
   "outputs": [
    {
     "name": "stdout",
     "output_type": "stream",
     "text": [
      "{'Date': 0, 'Open': 0, 'High': 0, 'Low': 0, 'Close': 0, 'Adj Close': 0, 'Volume': 0}\n"
     ]
    }
   ],
   "source": [
    "# Count missing values in each column\n",
    "missing = {col_name: ss.filter(col(col_name).isNull()).count() for col_name in ss.columns}\n",
    "print(missing)\n",
    "# Because the data of the stock price is updated every day, there is no missing value in the data."
   ]
  },
  {
   "cell_type": "code",
   "execution_count": 6,
   "id": "e8b853ec",
   "metadata": {},
   "outputs": [
    {
     "name": "stdout",
     "output_type": "stream",
     "text": [
      "Number of duplicate rows: 0\n",
      "+----+----+----+---+-----+---------+------+-----+\n",
      "|Date|Open|High|Low|Close|Adj Close|Volume|count|\n",
      "+----+----+----+---+-----+---------+------+-----+\n",
      "+----+----+----+---+-----+---------+------+-----+\n",
      "\n"
     ]
    }
   ],
   "source": [
    "# Check for duplicate rows\n",
    "duplicates = ss.groupBy(ss.columns).count().filter(col(\"count\") > 1)\n",
    "print(\"Number of duplicate rows:\", duplicates.count())\n",
    "duplicates.show()"
   ]
  },
  {
   "cell_type": "code",
   "execution_count": 7,
   "id": "4164db11",
   "metadata": {},
   "outputs": [
    {
     "name": "stdout",
     "output_type": "stream",
     "text": [
      "Số lần 'Open' hoặc 'Close' thấp hơn 'Low': 1\n",
      "+----------+-------+-------+-------+-------+-------------+--------+\n",
      "|      Date|   Open|   High|    Low|  Close|    Adj Close|  Volume|\n",
      "+----------+-------+-------+-------+-------+-------------+--------+\n",
      "|2024-10-14|59500.0|61200.0|59400.0|59300.0|58898.3984375|20886249|\n",
      "+----------+-------+-------+-------+-------+-------------+--------+\n",
      "\n",
      "+----------+-------+-------+-------+-------+---------------+--------+\n",
      "|      Date|   Open|   High|    Low|  Close|      Adj Close|  Volume|\n",
      "+----------+-------+-------+-------+-------+---------------+--------+\n",
      "|2019-01-02|39400.0|39400.0|38750.0|38750.0| 33061.84765625| 7847664|\n",
      "|2019-01-03|38300.0|38550.0|37600.0|37600.0|32080.662109375|12471493|\n",
      "|2019-01-04|37450.0|37600.0|37450.0|37450.0| 31952.66796875|14108958|\n",
      "|2019-01-07|38000.0|38900.0|38750.0|38750.0| 33061.84765625|12748997|\n",
      "|2019-01-08|38000.0|39200.0|38100.0|38100.0|32507.259765625|12756554|\n",
      "+----------+-------+-------+-------+-------+---------------+--------+\n",
      "only showing top 5 rows\n",
      "\n"
     ]
    }
   ],
   "source": [
    "# Check if 'Open' or 'Close' is less than 'Low'\n",
    "lower_than_low = ss.filter((col(\"Open\") < col(\"Low\")) | (col(\"Close\") < col(\"Low\")))\n",
    "print(\"Số lần 'Open' hoặc 'Close' thấp hơn 'Low':\", lower_than_low.count())\n",
    "lower_than_low.show()\n",
    "# Fix incorrect data: if 'Low' < 'Close', set 'Low' to 'Close'\n",
    "ss_fixed = ss.withColumn(\"Low\", when(col(\"Low\") < col(\"Close\"), col(\"Close\")).otherwise(col(\"Low\")))\n",
    "\n",
    "ss_fixed.orderBy(\"Date\").show(5)\n",
    "\n",
    "# Dừng Spark session\n",
    "spark.stop()"
   ]
  }
 ],
 "metadata": {
  "kernelspec": {
   "display_name": "Python 3",
   "language": "python",
   "name": "python3"
  },
  "language_info": {
   "codemirror_mode": {
    "name": "ipython",
    "version": 3
   },
   "file_extension": ".py",
   "mimetype": "text/x-python",
   "name": "python",
   "nbconvert_exporter": "python",
   "pygments_lexer": "ipython3",
   "version": "3.10.6"
  }
 },
 "nbformat": 4,
 "nbformat_minor": 5
}
